{
 "cells": [
  {
   "cell_type": "code",
   "execution_count": 49,
   "metadata": {},
   "outputs": [],
   "source": [
    "import numpy as np\n",
    "\n",
    "# Create a 20x20 grid with a discretized circle\n",
    "def create_circle(grid_size, radius, offset_x=0, offset_y=0):\n",
    "    x, y = np.meshgrid(np.arange(grid_size), np.arange(grid_size))\n",
    "    center_x = grid_size // 2 + offset_x\n",
    "    center_y = grid_size // 2 + offset_y\n",
    "    circle = ((x - center_x)**2 + (y - center_y)**2) <= radius**2\n",
    "    return circle.astype(float)\n",
    "\n",
    "# Create a 20x20 grid with a discretized square\n",
    "def create_square(grid_size, side_length, offset_x=0, offset_y=0):\n",
    "    square = np.zeros((grid_size, grid_size))\n",
    "    start_x = (grid_size - side_length) // 2 + offset_x\n",
    "    start_y = (grid_size - side_length) // 2 + offset_y\n",
    "    end_x = start_x + side_length\n",
    "    end_y = start_y + side_length\n",
    "    square[start_y:end_y, start_x:end_x] = 1\n",
    "    return square\n",
    "\n",
    "# Parameters\n",
    "grid_size = 20\n",
    "circle_radius = 4\n",
    "square_side_length = 6\n",
    "separation_distance = 0  # Distance between circle and square\n",
    "\n",
    "# Create designs with separation\n",
    "circle_design = create_circle(grid_size, circle_radius)\n",
    "square_design = create_square(grid_size, square_side_length)\n",
    "\n",
    "# Combine circle and square into one grid\n",
    "initial_design = circle_design\n",
    "initial_design1 = circle_design"
   ]
  },
  {
   "cell_type": "code",
   "execution_count": 50,
   "metadata": {},
   "outputs": [],
   "source": [
    "from scipy.ndimage import gaussian_filter\n",
    "# Apply a filter to the design\n",
    "def filter_design(design, filter_radius):\n",
    "    return gaussian_filter(design, sigma=filter_radius)\n",
    "\n",
    "# Apply thresholding using sigmoid projection\n",
    "def threshold_design(filtered_design, beta, eta):\n",
    "    return 1 / (1 + np.exp(-beta * (filtered_design - eta)))\n",
    "\n",
    "# Parameters for filtering and thresholding\n",
    "filter_radius = 2\n",
    "beta = 100\n",
    "eta = 0.5\n",
    "\n",
    "# Filter the combined design\n",
    "filtered_design = filter_design(initial_design, filter_radius)\n",
    "\n",
    "# Threshold the filtered design\n",
    "thresholded_design = threshold_design(filtered_design, beta, eta)"
   ]
  },
  {
   "cell_type": "code",
   "execution_count": 51,
   "metadata": {},
   "outputs": [
    {
     "data": {
      "image/png": "[encoded data removed]",
      "text/plain": [
       "<Figure size 1400x400 with 3 Axes>"
      ]
     },
     "metadata": {},
     "output_type": "display_data"
    }
   ],
   "source": [
    "import matplotlib.pyplot as plt\n",
    "\n",
    "# Plot the designs\n",
    "fig, axes = plt.subplots(1, 3, figsize=(14, 4))\n",
    "\n",
    "# Plot initial design\n",
    "axes[0].imshow(1-initial_design, cmap='gray', extent=[0, grid_size, 0, grid_size])\n",
    "axes[0].grid(True)\n",
    "axes[0].set_xticks(np.arange(0, grid_size + 1, 1))\n",
    "axes[0].set_yticks(np.arange(0, grid_size + 1, 1))\n",
    "axes[0].set_xticklabels([])  # Remove x-axis numbers\n",
    "axes[0].set_yticklabels([])  # Remove y-axis numbers\n",
    "\n",
    "# Plot filtered design\n",
    "axes[1].imshow(1-filtered_design, cmap='gray', extent=[0, grid_size, 0, grid_size])\n",
    "axes[1].grid(True)\n",
    "axes[1].set_xticks(np.arange(0, grid_size + 1, 1))\n",
    "axes[1].set_yticks(np.arange(0, grid_size + 1, 1))\n",
    "axes[1].set_xticklabels([])  # Remove x-axis numbers\n",
    "axes[1].set_yticklabels([])  # Remove y-axis numbers\n",
    "\n",
    "# Plot filtered and thresholded design\n",
    "axes[2].imshow(1-thresholded_design, cmap='gray', extent=[0, grid_size, 0, grid_size])\n",
    "axes[2].grid(True)\n",
    "axes[2].set_xticks(np.arange(0, grid_size + 1, 1))\n",
    "axes[2].set_yticks(np.arange(0, grid_size + 1, 1))\n",
    "axes[2].set_xticklabels([])  # Remove x-axis numbers\n",
    "axes[2].set_yticklabels([])  # Remove y-axis numbers\n",
    "\n",
    "# Adjust layout\n",
    "plt.tight_layout()\n",
    "plt.show()"
   ]
  },
  {
   "cell_type": "code",
   "execution_count": 52,
   "metadata": {},
   "outputs": [],
   "source": [
    "from scipy.ndimage import gaussian_filter\n",
    "# Apply a filter to the design\n",
    "def filter_design(design, filter_radius):\n",
    "    return gaussian_filter(design, sigma=filter_radius)\n",
    "\n",
    "# Apply thresholding using sigmoid projection\n",
    "def threshold_design(filtered_design, beta, eta):\n",
    "    return 1 / (1 + np.exp(-beta * (filtered_design - eta)))\n",
    "\n",
    "# Parameters for filtering and thresholding\n",
    "filter_radius = 1.25\n",
    "beta = 100\n",
    "eta = 0.5\n",
    "\n",
    "# Filter the combined design\n",
    "filtered_design1 = filter_design(initial_design1, filter_radius)\n",
    "\n",
    "# Threshold the filtered design\n",
    "thresholded_design1 = threshold_design(filtered_design1, beta, eta)"
   ]
  },
  {
   "cell_type": "code",
   "execution_count": 53,
   "metadata": {},
   "outputs": [
    {
     "data": {
      "image/png": "[encoded data removed]",
      "text/plain": [
       "<Figure size 400x250 with 3 Axes>"
      ]
     },
     "metadata": {},
     "output_type": "display_data"
    }
   ],
   "source": [
    "import matplotlib.pyplot as plt\n",
    "\n",
    "# Plot the designs\n",
    "fig, axes = plt.subplots(1, 3, figsize=(4, 2.5))\n",
    "\n",
    "for j in range(3):\n",
    "        axes[j].set_xticks(range(grid_size + 1))\n",
    "        axes[j].set_yticks(range(grid_size + 1))\n",
    "        axes[j].tick_params(length=0)           # Hide tick marks\n",
    "        axes[j].set_xticklabels([])              # Hide tick labels\n",
    "        axes[j].set_yticklabels([])\n",
    "        axes[j].grid(True, alpha=0.3)            # Enable grid with some transparency\n",
    "\n",
    "# Plot initial circle design\n",
    "axes[0].imshow(1 - initial_design, cmap='gray', extent=[0, grid_size, 0, grid_size], vmax=1, vmin=0)\n",
    "\n",
    "# Plot filtered circle design\n",
    "axes[1].imshow(1 - filtered_design, cmap='gray', extent=[0, grid_size, 0, grid_size], vmax=1, vmin=0)\n",
    "\n",
    "# Plot filtered and thresholded circle design\n",
    "axes[2].imshow(1 - thresholded_design, cmap='gray', extent=[0, grid_size, 0, grid_size], vmax=1, vmin=0)\n",
    "\n",
    "# Plot initial square design\n",
    "#axes[1, 0].imshow(1 - square_design, cmap='gray', extent=[0, grid_size, 0, grid_size])\n",
    "\n",
    "# Plot filtered square design\n",
    "#filtered_square_design = filter_design(square_design, filter_radius)\n",
    "#axes[1, 1].imshow(1 - filtered_square_design, cmap='gray', extent=[0, grid_size, 0, grid_size])\n",
    "\n",
    "# Plot filtered and thresholded square design\n",
    "#thresholded_square_design = threshold_design(filtered_square_design, beta, eta)\n",
    "#axes[1, 2].imshow(1 - thresholded_square_design, cmap='gray', extent=[0, grid_size, 0, grid_size])\n",
    "\n",
    "# Adjust layout\n",
    "plt.tight_layout()\n",
    "plt.show()"
   ]
  },
  {
   "cell_type": "code",
   "execution_count": 54,
   "metadata": {},
   "outputs": [],
   "source": [
    "fig.savefig('designs.png', dpi=600, bbox_inches='tight')"
   ]
  }
 ],
 "metadata": {
  "kernelspec": {
   "display_name": "MST",
   "language": "python",
   "name": "python3"
  },
  "language_info": {
   "codemirror_mode": {
    "name": "ipython",
    "version": 3
   },
   "file_extension": ".py",
   "mimetype": "text/x-python",
   "name": "python",
   "nbconvert_exporter": "python",
   "pygments_lexer": "ipython3",
   "version": "3.10.16"
  }
 },
 "nbformat": 4,
 "nbformat_minor": 2
}
